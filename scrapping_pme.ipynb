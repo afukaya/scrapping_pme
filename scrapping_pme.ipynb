{
 "metadata": {
  "language_info": {
   "codemirror_mode": {
    "name": "ipython",
    "version": 3
   },
   "file_extension": ".py",
   "mimetype": "text/x-python",
   "name": "python",
   "nbconvert_exporter": "python",
   "pygments_lexer": "ipython3",
   "version": "3.8.2-final"
  },
  "orig_nbformat": 2,
  "kernelspec": {
   "name": "python_defaultSpec_1598883833252",
   "display_name": "Python 3.8.2 64-bit ('.venv': venv)"
  }
 },
 "nbformat": 4,
 "nbformat_minor": 2,
 "cells": [
  {
   "cell_type": "markdown",
   "metadata": {},
   "source": [
    "# Teste do scrapper\n",
    "\n",
    "O primeiro modelo de scrapper sera com selenium, pois é preciso criar um mecanismo para inicial para alimentar o Datalake. Nesse script, a autenticação do captcha será manual e a coleta das tabelas com os dados serão extraídas pela aplicação e carregadas no Atlas."
   ]
  },
  {
   "cell_type": "markdown",
   "metadata": {},
   "source": [
    "O código a seguir o `selenium` faz a carga da pagina de busca e para na autenticação do CAPTCHA."
   ]
  },
  {
   "cell_type": "code",
   "execution_count": 1,
   "metadata": {},
   "outputs": [],
   "source": [
    "from selenium import webdriver\n",
    "from selenium.webdriver.common.by import By \n",
    "from selenium.webdriver.support.ui import WebDriverWait \n",
    "from selenium.webdriver.support import expected_conditions as EC \n",
    "\n",
    "import time\n",
    "import json"
   ]
  },
  {
   "cell_type": "code",
   "execution_count": 2,
   "metadata": {},
   "outputs": [],
   "source": [
    "nire_list = []\n",
    "driver = webdriver.Firefox(executable_path = r'.\\webdriver\\geckodriver.exe')\n",
    "\n",
    "driver.get('https://www.jucesponline.sp.gov.br/BuscaAvancada.aspx?IDProduto=')\n",
    "txtMunicipio = driver.find_element_by_id('ctl00_cphContent_frmBuscaAvancada_txtMunicipio')\n",
    "txtMunicipio.send_keys('santos')\n",
    "\n",
    "btPesquisar = driver.find_element_by_id('ctl00_cphContent_frmBuscaAvancada_btPesquisar')\n",
    "btPesquisar.click()"
   ]
  },
  {
   "cell_type": "markdown",
   "metadata": {},
   "source": [
    "O próximo passo é autenticar o CAPTCHA e aguardar a página com os resultados.\n",
    "\n",
    "Os dados estão em uma tabela identificada com o seguinte tag.\n",
    "\n",
    "`<table rules=\"all\" id=\"ctl00_cphContent_gdvResultadoBusca_gdvContent\" style=\"border-width:0px;width:100%;\" cellspacing=\"1\" cellpadding=\"4\" border=\"0\">`\n",
    "\n",
    "Utiliza-se um explicit wait para fazer com que o script aguarde o usuário inserir o CAPTCHA e a tabela de dados carregar."
   ]
  },
  {
   "cell_type": "code",
   "execution_count": 3,
   "metadata": {},
   "outputs": [],
   "source": [
    "data_table = WebDriverWait(driver,30).until(EC.presence_of_element_located((By.ID,'ctl00_cphContent_gdvResultadoBusca_gdvContent')))"
   ]
  },
  {
   "cell_type": "markdown",
   "metadata": {},
   "source": [
    "Verificar como o selenium se comporta com o vai e vem das páginas.\n",
    "\n",
    "A página tem um timeout e de tempos em tempos ela pede outro captcha.\n",
    "\n",
    "Para pegar os documentos do detalhamento precisa de logon.\n",
    "\n",
    "Como o selenium se perde quando ele avança para a página de detalhamento e depois retona para a lista de NIREs, a melhor abordagem é percorrer a lista e coletar todos os números existentes, para depois acessar as páginas individualmente. Haja visto, existe a possibilidade de acesso direto aos dados através da URL - `https://www.jucesponline.sp.gov.br/Pre_Visualiza.aspx?nire=<NIRE>`"
   ]
  },
  {
   "cell_type": "code",
   "execution_count": 4,
   "metadata": {
    "tags": []
   },
   "outputs": [],
   "source": [
    "raw_data = data_table.find_elements_by_tag_name('td')\n",
    "for nire in raw_data:\n",
    "    if nire.get_attribute(\"class\") == 'item01':\n",
    "        nire_list.append(nire.text.strip())  "
   ]
  },
  {
   "cell_type": "markdown",
   "metadata": {},
   "source": [
    "## Navegação entre as páginas com resultados.\n"
   ]
  },
  {
   "cell_type": "markdown",
   "metadata": {},
   "source": [
    "Como condição de parada o cógigo deve verificar se a quantidade de itens exibidos bate com a quantidade de itens encontrados, para isso, se utiliza a informação existente junto aos botões de navegação.\n"
   ]
  },
  {
   "cell_type": "code",
   "execution_count": 11,
   "metadata": {
    "tags": []
   },
   "outputs": [
    {
     "output_type": "stream",
     "name": "stdout",
     "text": "<selenium.webdriver.firefox.webelement.FirefoxWebElement (session=\"a598e525-b8c2-43e4-bbb8-81b6feca7ba8\", element=\"d6ce9d96-cc05-467a-b099-429d518cff11\")>\n"
    }
   ],
   "source": [
    "result_count = int(driver.find_element(By.ID,'ctl00_cphContent_gdvResultadoBusca_pgrGridView_lblResultCount').text.replace('.', ''))\n",
    "btNext = driver.find_element(By.ID,'ctl00_cphContent_gdvResultadoBusca_pgrGridView_btrNext_lbtText')\n",
    "result = int(driver.find_element(By.ID,'ctl00_cphContent_gdvResultadoBusca_pgrGridView_lblResults').text.replace('.','')[-1])\n",
    "if (result < result_count):\n",
    "    time.sleep(10)\n",
    "    btNext.click()\n",
    "    loading = WebDriverWait(driver,5).until(EC.invisibility_of_element((By.ID,'ctl00_cphContent_gdvResultadoBusca_qtpLoading_pnlMessage')))\n",
    "    print(loading)\n",
    "else:\n",
    "    pass"
   ]
  },
  {
   "cell_type": "markdown",
   "metadata": {},
   "source": [
    "Mesmo depois dos ajustes o script ainda dá excessões de Staled Element. Talvez seja melhor processa a página offline.\n",
    "\n",
    "O código abaixo grava o HTML no disco para inspeção."
   ]
  },
  {
   "cell_type": "code",
   "execution_count": 4,
   "metadata": {
    "tags": []
   },
   "outputs": [],
   "source": [
    "file = open('source.html','w')\n",
    "file.write(driver.page_source)\n",
    "file.close()"
   ]
  },
  {
   "cell_type": "markdown",
   "metadata": {},
   "source": [
    "## Processa a página com os detalhamentos\n"
   ]
  },
  {
   "cell_type": "markdown",
   "metadata": {},
   "source": [
    "O código a seguir acessa as páginas com os dados detalhados das empresas e faz o dump deles em um aquivo no formato json.\n",
    "\n",
    "As páginas são acessadas diretamente através da URL base `https://www.jucesponline.sp.gov.br/Pre_Visualiza.aspx?nire=` mais o código NIRE recuperado no passo anterior."
   ]
  },
  {
   "cell_type": "markdown",
   "metadata": {},
   "source": [
    "Abaixo seguem as tags da página de detalhamento da empresa com dados relevantes para a aplicação.\n",
    "\n",
    "Área com os dados da empresa:  \n",
    "`<div id=\"dados\">`\n",
    "\n",
    "Timestamp da query:  \n",
    "`<p class=\"antetitulo\"> Data de emissão: <span id=\"ctl00_cphContent_frmPreVisualiza_lblEmissao\">26/08/2020 18:27:24</span></p>`\n",
    "\n",
    "Nome da empresa:  \n",
    "`<span id=\"ctl00_cphContent_frmPreVisualiza_lblEmpresa\" class=\"titulo-azul16-01\">ESTRELA COMERCIO DE UTILIDADES LTDA</span>`\n",
    "\n",
    "Tipo de Empresa:  \n",
    "`<span id=\"ctl00_cphContent_frmPreVisualiza_lblDetalhes\">LIMITADA UNIPESSOAL (E.P.P.)</span>`\n",
    "\n",
    "Data da Constituição:  \n",
    "`<span id=\"ctl00_cphContent_frmPreVisualiza_lblConstituicao\">26/08/2020</span>`\n",
    "\n",
    "Início da Atividade:  \n",
    "`<span id=\"ctl00_cphContent_frmPreVisualiza_lblAtividade\">20/08/2020</span>`\n",
    "\n",
    "CNPJ:  \n",
    "`<span id=\"ctl00_cphContent_frmPreVisualiza_lblCnpj\">38.231.226/0001-76</span>`\n",
    "\n",
    "Inscrição Estadual:  \n",
    "`<span id=\"ctl00_cphContent_frmPreVisualiza_lblInscricao\"></span>`\n",
    "\n",
    "Objetivo:  \n",
    "`<span id=\"ctl00_cphContent_frmPreVisualiza_lblObjeto\">Comércio varejista de outros artigos de uso doméstico não especificados anteriormente<br>Comércio varejista de cosméticos, produtos de perfumaria e de higiene pessoal<br>Comércio varejista de artigos de papelaria<br>Comércio varejista de brinquedos e artigos recreativos<br>Comércio atacadista de outros equipamentos e artigos de uso pessoal e doméstico não especificados anteriormente</span>`\n",
    "\n",
    "Capital:  \n",
    "`<span id=\"ctl00_cphContent_frmPreVisualiza_lblCapital\">R$       30.000,00 (Trinta Mil Reais)</span>`\n",
    "\n",
    "Logradouro:  \n",
    "`<span id=\"ctl00_cphContent_frmPreVisualiza_lblLogradouro\">Rua Julio Conceicao</span>`\n",
    "\n",
    "Numero:  \n",
    "`<span id=\"ctl00_cphContent_frmPreVisualiza_lblNumero\">257</span>`\n",
    "\n",
    "Bairro:  \n",
    "`<span id=\"ctl00_cphContent_frmPreVisualiza_lblBairro\">Vila Mathias</span>`\n",
    "\n",
    "Complemento:  \n",
    "`<span id=\"ctl00_cphContent_frmPreVisualiza_lblComplemento\"></span>`\n",
    "\n",
    "Município:  \n",
    "`<span id=\"ctl00_cphContent_frmPreVisualiza_lblMunicipio\">Santos</span>`\n",
    "\n",
    "CEP:  \n",
    "`<span id=\"ctl00_cphContent_frmPreVisualiza_lblCep\">11015-540</span>`\n",
    "\n",
    "Unidade Federativa:  \n",
    "`<span id=\"ctl00_cphContent_frmPreVisualiza_lblUf\">SP</span>`\n",
    "\n"
   ]
  },
  {
   "cell_type": "code",
   "execution_count": 11,
   "metadata": {},
   "outputs": [
    {
     "output_type": "execute_result",
     "data": {
      "text/plain": "10103"
     },
     "metadata": {},
     "execution_count": 11
    }
   ],
   "source": [
    "url_base = 'https://www.jucesponline.sp.gov.br/Pre_Visualiza.aspx?nire='\n",
    "empresas = []\n",
    "for nire in nire_list:\n",
    "    driver.get(url_base + nire)\n",
    "    \n",
    "    timestamp         = driver.find_element(By.ID,\"ctl00_cphContent_frmPreVisualiza_lblEmissao\").text\n",
    "    nome              = driver.find_element(By.ID, \"ctl00_cphContent_frmPreVisualiza_lblEmpresa\").text\n",
    "    tipo              = driver.find_element(By.ID, \"ctl00_cphContent_frmPreVisualiza_lblDetalhes\").text\n",
    "    data_constituicao = driver.find_element(By.ID, \"ctl00_cphContent_frmPreVisualiza_lblConstituicao\").text\n",
    "    inicio_atividade  = driver.find_element(By.ID, \"ctl00_cphContent_frmPreVisualiza_lblAtividade\").text\n",
    "    cnpj              = driver.find_element(By.ID, \"ctl00_cphContent_frmPreVisualiza_lblCnpj\").text\n",
    "    ie                = driver.find_element(By.ID, \"ctl00_cphContent_frmPreVisualiza_lblInscricao\").text\n",
    "    objeto            = driver.find_element(By.ID, \"ctl00_cphContent_frmPreVisualiza_lblObjeto\").text\n",
    "    capital           = driver.find_element(By.ID, \"ctl00_cphContent_frmPreVisualiza_lblCapital\").text\n",
    "    logradouro        = driver.find_element(By.ID, \"ctl00_cphContent_frmPreVisualiza_lblLogradouro\").text\n",
    "    numero            = driver.find_element(By.ID, \"ctl00_cphContent_frmPreVisualiza_lblNumero\").text\n",
    "    bairro            = driver.find_element(By.ID, \"ctl00_cphContent_frmPreVisualiza_lblBairro\").text\n",
    "    complemento       = driver.find_element(By.ID, \"ctl00_cphContent_frmPreVisualiza_lblComplemento\").text\n",
    "    municipio         = driver.find_element(By.ID, \"ctl00_cphContent_frmPreVisualiza_lblMunicipio\").text\n",
    "    cep               = driver.find_element(By.ID, \"ctl00_cphContent_frmPreVisualiza_lblCep\").text\n",
    "    uf                = driver.find_element(By.ID, \"ctl00_cphContent_frmPreVisualiza_lblUf\").text\n",
    "\n",
    "    empresas.append({'timestamp':timestamp, 'nire':nire, 'nome':nome,'tipo':tipo,'data_constituicao':data_constituicao, 'inicio_atividade':inicio_atividade, 'cnpj':cnpj, 'ie':ie, 'objeto':objeto, 'capital':capital,'logradouro':logradouro, 'numero':numero, 'bairro':bairro, 'complemento':complemento, 'municipio':municipio, 'cep':cep, 'uf':uf})\n",
    "    time.sleep(5)\n",
    "\n",
    "f = open('data_file.json','w')\n",
    "f.write(json.dumps(empresas))"
   ]
  },
  {
   "cell_type": "code",
   "execution_count": null,
   "metadata": {},
   "outputs": [],
   "source": [
    "O algoritmo anterior sofre com exceções aleatórias devido ao lag na carga da página. Vou tentar baixar a página toda para o disco e processar offline.\n",
    "\n"
   ]
  },
  {
   "cell_type": "markdown",
   "metadata": {},
   "source": [
    "# Teste do OCR\n",
    "\n",
    "O módulo `pillow` é uma biblioteca para a manipulação de imagens, ela pemite a carga e ajustem em imagens de diversos formatos.\n",
    "\n",
    "O módulo pytesseract é um `wrapper` para o software de reconhecimento de imagens `tesseract` que tem que ser instalado a parte.\n"
   ]
  },
  {
   "cell_type": "markdown",
   "metadata": {},
   "source": [
    "O código a seguir carrega as bibliotecas e configura o caminho para o executável do tesseract.\n"
   ]
  },
  {
   "cell_type": "code",
   "execution_count": null,
   "metadata": {},
   "outputs": [],
   "source": [
    "from PIL import Image\n",
    "from PIL import ImageFilter\n",
    "\n",
    "import pytesseract\n",
    "\n",
    "pytesseract.pytesseract.tesseract_cmd = r'D:\\Tools\\Tesseract-OCR\\tesseract'"
   ]
  },
  {
   "cell_type": "markdown",
   "metadata": {},
   "source": [
    "O trecho a seguir carrega na memória a imagem abaixo e a exibe em na aplicação de visualização de imagens do sistema operacional.\n",
    "\n",
    "![Imagem de Teste](images\\test.jpg)\n"
   ]
  },
  {
   "cell_type": "code",
   "execution_count": null,
   "metadata": {
    "tags": []
   },
   "outputs": [],
   "source": [
    "captcha = Image.open(r'images\\test.jpg')\n",
    "captcha.show()"
   ]
  },
  {
   "cell_type": "markdown",
   "metadata": {},
   "source": [
    "A próxima linha analisa a imagem e imprime o texto extraído na tela. Caso nada tenha sido encontrado, não há saída para a tela.\n"
   ]
  },
  {
   "cell_type": "code",
   "execution_count": null,
   "metadata": {
    "tags": []
   },
   "outputs": [],
   "source": [
    "print(pytesseract.image_to_string(captcha))"
   ]
  },
  {
   "cell_type": "markdown",
   "metadata": {},
   "source": [
    "Com uma imagem limpa o reconhecimento funciona sem grandes problemas. Vamos testar agora com a seguinte imagem coletada do CAPTCHA da Jussesp.\n",
    "\n",
    "![CAPTCHA Jussesp](images\\CaptchaImage.aspx.jfif)\n"
   ]
  },
  {
   "cell_type": "code",
   "execution_count": null,
   "metadata": {
    "tags": []
   },
   "outputs": [],
   "source": [
    "captcha = Image.open(r'images\\CaptchaImage.aspx.jfif')\n",
    "print(pytesseract.image_to_string(captcha))"
   ]
  },
  {
   "cell_type": "markdown",
   "metadata": {},
   "source": [
    "Devido ao ruído de fundo o OCR não foi capaz de reconhecer nenhum dos caracteres da imagem.\n",
    "\n",
    "Vou tentar tratar a imagem para diminuir o nível de ruído.\n"
   ]
  },
  {
   "cell_type": "code",
   "execution_count": null,
   "metadata": {
    "tags": []
   },
   "outputs": [],
   "source": [
    "#filterImg = captcha.filter(ImageFilter.SHARPEN)\n",
    "filterImg = captcha.filter(ImageFilter.FIND_EDGES)\n",
    "filterImg.show()\n",
    "print(pytesseract.image_to_string(filterImg))"
   ]
  },
  {
   "cell_type": "markdown",
   "metadata": {},
   "source": [
    "Remover as \"pintas\" do fundo da imagem e passar pelo OCR novamente.\n",
    "\n",
    "![CAPTCHA Tratado 1](images\\CaptchaImage13T.aspx.jpg)\n"
   ]
  },
  {
   "cell_type": "code",
   "execution_count": null,
   "metadata": {
    "tags": []
   },
   "outputs": [],
   "source": [
    "captcha = Image.open(r'images\\CaptchaImage13T.aspx.jpg')\n",
    "print(pytesseract.image_to_string(captcha))"
   ]
  },
  {
   "cell_type": "code",
   "execution_count": null,
   "metadata": {},
   "outputs": [],
   "source": []
  }
 ]
}